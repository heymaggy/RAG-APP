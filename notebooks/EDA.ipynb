{
 "cells": [
  {
   "cell_type": "code",
   "execution_count": 2,
   "id": "be4efa00",
   "metadata": {},
   "outputs": [
    {
     "name": "stderr",
     "output_type": "stream",
     "text": [
      "/Users/deliciamagdaline/anaconda3/lib/python3.11/site-packages/pandas/core/arrays/masked.py:61: UserWarning: Pandas requires version '1.3.6' or newer of 'bottleneck' (version '1.3.5' currently installed).\n",
      "  from pandas.core import (\n"
     ]
    }
   ],
   "source": [
    "import pandas as pd\n"
   ]
  },
  {
   "cell_type": "code",
   "execution_count": 3,
   "id": "9ec1e625",
   "metadata": {},
   "outputs": [
    {
     "name": "stderr",
     "output_type": "stream",
     "text": [
      "/var/folders/lt/snf6g1r515730s7chny_jm3m0000gn/T/ipykernel_89594/1516929396.py:2: DtypeWarning: Columns (11,15) have mixed types. Specify dtype option on import or set low_memory=False.\n",
      "  demographics_df = pd.read_csv(\n",
      "/var/folders/lt/snf6g1r515730s7chny_jm3m0000gn/T/ipykernel_89594/1516929396.py:10: DtypeWarning: Columns (5,6) have mixed types. Specify dtype option on import or set low_memory=False.\n",
      "  therapy_df = pd.read_csv(\n",
      "/var/folders/lt/snf6g1r515730s7chny_jm3m0000gn/T/ipykernel_89594/1516929396.py:14: DtypeWarning: Columns (9,10,13,15) have mixed types. Specify dtype option on import or set low_memory=False.\n",
      "  drugs_df = pd.read_csv(\n"
     ]
    },
    {
     "name": "stdout",
     "output_type": "stream",
     "text": [
      "Demographics DataFrame:\n",
      "   primaryid   caseid  caseversion i_f_code    event_dt      mfr_dt  \\\n",
      "0   30375293  3037529            3        F    199706.0  20130212.0   \n",
      "1   30936912  3093691            2        F    199610.0  20130115.0   \n",
      "2   32481334  3248133            4        F      1996.0  20130228.0   \n",
      "3   35865322  3586532            2        F  20000627.0  20130228.0   \n",
      "4   37005182  3700518            2        F    200101.0  20010206.0   \n",
      "\n",
      "   init_fda_dt    fda_dt rept_cod            mfr_num  ...    wt wt_cod  \\\n",
      "0     19980402  20130221      EXP             116169  ...  56.0     KG   \n",
      "1     19970620  20130124      PER             106439  ...  56.0     KG   \n",
      "2     19980921  20130308      EXP             117732  ...  54.0     KG   \n",
      "3     20001219  20130311      EXP    PHBS2000AR03205  ...   NaN    NaN   \n",
      "4     20010817  20130116      EXP  02100-USA-01-0017  ...   NaN    NaN   \n",
      "\n",
      "      rept_dt to_mfr occp_cod reporter_country occr_country  year quarter  \\\n",
      "0  20130221.0    NaN       CN               US           US  2013      q1   \n",
      "1  20130124.0    NaN       CN               US           US  2013      q1   \n",
      "2  20130308.0    NaN       MD               US           US  2013      q1   \n",
      "3  20130311.0    NaN       OT               AR           AR  2013      q1   \n",
      "4  20130111.0    NaN       MD               US          NaN  2013      q1   \n",
      "\n",
      "    source_file  \n",
      "0  demo13q1.txt  \n",
      "1  demo13q1.txt  \n",
      "2  demo13q1.txt  \n",
      "3  demo13q1.txt  \n",
      "4  demo13q1.txt  \n",
      "\n",
      "[5 rows x 25 columns]\n",
      "\n",
      "Outcomes DataFrame:\n",
      "   primaryid   caseid outc_cod  year quarter   source_file\n",
      "0   30375293  3037529       HO  2013      q1  OUTC13Q1.txt\n",
      "1   30936912  3093691       HO  2013      q1  OUTC13Q1.txt\n",
      "2   32481334  3248133       HO  2013      q1  OUTC13Q1.txt\n",
      "3   35865322  3586532       DE  2013      q1  OUTC13Q1.txt\n",
      "4   35865322  3586532       HO  2013      q1  OUTC13Q1.txt\n",
      "\n",
      "Therapy DataFrame:\n",
      "   primaryid   caseid  dsg_drug_seq    start_dt    end_dt  dur dur_cod  year  \\\n",
      "0   30375293  3037529             1    199612.0  199707.0  NaN     NaN  2013   \n",
      "1   30375293  3037529             2    199708.0       NaN  NaN     NaN  2013   \n",
      "2   30375293  3037529             8      1996.0    1997.0  NaN     NaN  2013   \n",
      "3   30936912  3093691             1  19961001.0       NaN  NaN     NaN  2013   \n",
      "4   32481334  3248133             1    199609.0    2003.0  NaN     NaN  2013   \n",
      "\n",
      "  quarter   source_file  \n",
      "0      q1  THER13Q1.txt  \n",
      "1      q1  THER13Q1.txt  \n",
      "2      q1  THER13Q1.txt  \n",
      "3      q1  THER13Q1.txt  \n",
      "4      q1  THER13Q1.txt  \n",
      "\n",
      "Drugs DataFrame:\n",
      "   primaryid   caseid  drug_seq role_cod       drugname  val_vbm  \\\n",
      "0   30375293  3037529         1       PS         AVONEX        1   \n",
      "1   30375293  3037529         2       SS         AVONEX        1   \n",
      "2   30375293  3037529         3        C       ZANAFLEX        1   \n",
      "3   30375293  3037529         4        C  STEROID (NOS)        1   \n",
      "4   30375293  3037529         5        C     AMANTADINE        1   \n",
      "\n",
      "           route dose_vbm  cum_dose_chr cum_dose_unit  ... lot_num exp_dt  \\\n",
      "0  INTRAMUSCULAR      NaN           NaN           NaN  ...     NaN    NaN   \n",
      "1  INTRAMUSCULAR      NaN           NaN           NaN  ...     NaN    NaN   \n",
      "2            NaN      NaN           NaN           NaN  ...     NaN    NaN   \n",
      "3            NaN      NaN           NaN           NaN  ...     NaN    NaN   \n",
      "4            NaN      NaN           NaN           NaN  ...     NaN    NaN   \n",
      "\n",
      "    nda_num dose_amt  dose_unit  dose_form dose_freq  year quarter  \\\n",
      "0  103628.0       30         UG  INJECTION       /wk  2013      q1   \n",
      "1  103628.0       30         UG  INJECTION       /wk  2013      q1   \n",
      "2       NaN      NaN        NaN        NaN       NaN  2013      q1   \n",
      "3       NaN      NaN        NaN  INJECTION       NaN  2013      q1   \n",
      "4       NaN      NaN        NaN        NaN       NaN  2013      q1   \n",
      "\n",
      "    source_file  \n",
      "0  drug13q1.txt  \n",
      "1  drug13q1.txt  \n",
      "2  drug13q1.txt  \n",
      "3  drug13q1.txt  \n",
      "4  drug13q1.txt  \n",
      "\n",
      "[5 rows x 22 columns]\n"
     ]
    }
   ],
   "source": [
    "# Attempt to load the CSV files while skipping problematic rows\n",
    "demographics_df = pd.read_csv(\n",
    "    '/Users/deliciamagdaline/Desktop/Project/faers_menstrual_rag_project/data/processed/faers_demographics_combined.csv',\n",
    "    on_bad_lines='skip'\n",
    ")\n",
    "outcomes_df = pd.read_csv(\n",
    "    '/Users/deliciamagdaline/Desktop/Project/faers_menstrual_rag_project/data/processed/faers_outcomes_combined.csv',\n",
    "    on_bad_lines='skip'\n",
    ")\n",
    "therapy_df = pd.read_csv(\n",
    "    '/Users/deliciamagdaline/Desktop/Project/faers_menstrual_rag_project/data/processed/faers_therapy_combined.csv',\n",
    "    on_bad_lines='skip'\n",
    ")\n",
    "drugs_df = pd.read_csv(\n",
    "    '/Users/deliciamagdaline/Desktop/Project/faers_menstrual_rag_project/data/processed/faers_drugs_combined.csv',\n",
    "    on_bad_lines='skip'\n",
    ")\n",
    "\n",
    "# Display the first few rows of each DataFrame for inspection\n",
    "print(\"Demographics DataFrame:\")\n",
    "print(demographics_df.head())\n",
    "\n",
    "print(\"\\nOutcomes DataFrame:\")\n",
    "print(outcomes_df.head())\n",
    "\n",
    "print(\"\\nTherapy DataFrame:\")\n",
    "print(therapy_df.head())\n",
    "\n",
    "print(\"\\nDrugs DataFrame:\")\n",
    "print(drugs_df.head())"
   ]
  },
  {
   "cell_type": "code",
   "execution_count": null,
   "id": "055c3b87",
   "metadata": {},
   "outputs": [],
   "source": [
    "# Filter data for the years 2020 to 2024\n",
    "demographics_df = demographics_df.query(\"2020 <= year <= 2024\")\n",
    "outcomes_df = outcomes_df.query(\"2020 <= year <= 2024\")\n",
    "therapy_df = therapy_df.query(\"2020 <= year <= 2024\")\n",
    "drugs_df = drugs_df.query(\"2020 <= year <= 2024\")\n",
    "\n",
    "# Display the filtered data\n",
    "print(\"Filtered Demographics DataFrame:\")\n",
    "print(demographics_df.head())\n",
    "\n",
    "print(\"\\nFiltered Outcomes DataFrame:\")\n",
    "print(outcomes_df.head())\n",
    "\n",
    "print(\"\\nFiltered Therapy DataFrame:\")\n",
    "print(therapy_df.head())\n",
    "\n",
    "print(\"\\nFiltered Drugs DataFrame:\")\n",
    "print(drugs_df.head())"
   ]
  },
  {
   "cell_type": "code",
   "execution_count": null,
   "id": "5fde3e53",
   "metadata": {},
   "outputs": [],
   "source": []
  },
  {
   "cell_type": "code",
   "execution_count": null,
   "id": "c64a7d01",
   "metadata": {},
   "outputs": [],
   "source": []
  },
  {
   "cell_type": "code",
   "execution_count": null,
   "id": "6397c875",
   "metadata": {},
   "outputs": [],
   "source": []
  },
  {
   "cell_type": "code",
   "execution_count": null,
   "id": "c79b18cf",
   "metadata": {},
   "outputs": [],
   "source": []
  }
 ],
 "metadata": {
  "kernelspec": {
   "display_name": "base",
   "language": "python",
   "name": "python3"
  },
  "language_info": {
   "codemirror_mode": {
    "name": "ipython",
    "version": 3
   },
   "file_extension": ".py",
   "mimetype": "text/x-python",
   "name": "python",
   "nbconvert_exporter": "python",
   "pygments_lexer": "ipython3",
   "version": "3.11.4"
  }
 },
 "nbformat": 4,
 "nbformat_minor": 5
}
